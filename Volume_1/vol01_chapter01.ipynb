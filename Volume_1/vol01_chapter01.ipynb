{
 "cells": [
  {
   "cell_type": "markdown",
   "metadata": {},
   "source": [
    "# Chapter One   \n",
    "\n",
    "## Euclid's Algorithm\n",
    "\n",
    "* __E1.__ [Find remainder.] Divide $m$ by $n$ and let $r$ be the remainder. (We will have $0 \\leq r \\lt n$).  \n",
    "* __E2.__ [Is it zero?] If $r = 0$, the algorithm terminates; $n$ is the answer.  \n",
    "* __E3.__ [Reduce.] Set $m \\leftarrow n,~n \\leftarrow r$, and go back to step E1.  \n"
   ]
  },
  {
   "cell_type": "code",
   "execution_count": 12,
   "metadata": {},
   "outputs": [
    {
     "data": {
      "text/plain": [
       "12"
      ]
     },
     "execution_count": 12,
     "metadata": {},
     "output_type": "execute_result"
    }
   ],
   "source": [
    "def gcd(m, n):\n",
    "    r = m % n\n",
    "    if r == 0 and r < n:\n",
    "        return n\n",
    "    return gcd(n, r)\n",
    "\n",
    "\n",
    "gcd(60, 48)"
   ]
  },
  {
   "cell_type": "markdown",
   "metadata": {},
   "source": []
  }
 ],
 "metadata": {
  "kernelspec": {
   "display_name": "Python 3",
   "language": "python",
   "name": "python3"
  },
  "language_info": {
   "codemirror_mode": {
    "name": "ipython",
    "version": 3
   },
   "file_extension": ".py",
   "mimetype": "text/x-python",
   "name": "python",
   "nbconvert_exporter": "python",
   "pygments_lexer": "ipython3",
   "version": "3.6.5"
  }
 },
 "nbformat": 4,
 "nbformat_minor": 2
}
